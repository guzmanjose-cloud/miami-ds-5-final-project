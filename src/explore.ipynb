{
    "cells": [
        {
            "cell_type": "markdown",
            "metadata": {},
            "source": [
                "# Machine Learning Final Project"
            ]
        },
        {
            "cell_type": "markdown",
            "metadata": {},
            "source": [
                "## Step 0: Project Ideation & Dataset Inspection"
            ]
        },
        {
            "cell_type": "markdown",
            "metadata": {},
            "source": [
                "### Instructions\n",
                "1. **Dataset Loading**:\n",
                "\n",
                "    - For each plan (e.g., Plan A, Plan B, etc.), read in the corresponding dataset.\n",
                "\n",
                "2. **Inspect the Dataset**:\n",
                "\n",
                "    - After loading the dataset, display the first few rows to understand its structure.\n",
                "\n",
                "    - Identify and list the types of fields (e.g., numerical, categorical, text).\n",
                "\n",
                "    - Attempt to identify the target variable if your project involves supervised learning."
            ]
        },
        {
            "cell_type": "markdown",
            "metadata": {},
            "source": [
                "### Plan A: Animal drug use adverse event"
            ]
        },
        {
            "cell_type": "code",
            "execution_count": null,
            "metadata": {},
            "outputs": [],
            "source": []
        },
        {
            "cell_type": "code",
            "execution_count": null,
            "metadata": {},
            "outputs": [],
            "source": []
        },
        {
            "cell_type": "markdown",
            "metadata": {},
            "source": [
                "### Plan B: Biomedical Image Analysis"
            ]
        },
        {
            "cell_type": "code",
            "execution_count": null,
            "metadata": {},
            "outputs": [],
            "source": [
                "# Your code here"
            ]
        },
        {
            "cell_type": "markdown",
            "metadata": {},
            "source": [
                "### Plan C: Website Fact Checker"
            ]
        },
        {
            "cell_type": "code",
            "execution_count": 1,
            "metadata": {},
            "outputs": [
                {
                    "data": {
                        "text/html": [
                            "<div>\n",
                            "<style scoped>\n",
                            "    .dataframe tbody tr th:only-of-type {\n",
                            "        vertical-align: middle;\n",
                            "    }\n",
                            "\n",
                            "    .dataframe tbody tr th {\n",
                            "        vertical-align: top;\n",
                            "    }\n",
                            "\n",
                            "    .dataframe thead th {\n",
                            "        text-align: right;\n",
                            "    }\n",
                            "</style>\n",
                            "<table border=\"1\" class=\"dataframe\">\n",
                            "  <thead>\n",
                            "    <tr style=\"text-align: right;\">\n",
                            "      <th></th>\n",
                            "      <th>0</th>\n",
                            "    </tr>\n",
                            "  </thead>\n",
                            "  <tbody>\n",
                            "    <tr>\n",
                            "      <th>0</th>\n",
                            "      <td>{\"src_id\": \"8221\", \"src_query\": \"Death\", \"tgt_...</td>\n",
                            "    </tr>\n",
                            "    <tr>\n",
                            "      <th>1</th>\n",
                            "      <td>{\"src_id\": \"5334607\", \"src_query\": \"Africa\", \"...</td>\n",
                            "    </tr>\n",
                            "    <tr>\n",
                            "      <th>2</th>\n",
                            "      <td>{\"src_id\": \"26769\", \"src_query\": \"South Americ...</td>\n",
                            "    </tr>\n",
                            "    <tr>\n",
                            "      <th>3</th>\n",
                            "      <td>{\"src_id\": \"21241\", \"src_query\": \"Norway\", \"tg...</td>\n",
                            "    </tr>\n",
                            "    <tr>\n",
                            "      <th>4</th>\n",
                            "      <td>{\"src_id\": \"26994\", \"src_query\": \"Scotland\", \"...</td>\n",
                            "    </tr>\n",
                            "    <tr>\n",
                            "      <th>...</th>\n",
                            "      <td>...</td>\n",
                            "    </tr>\n",
                            "    <tr>\n",
                            "      <th>9995</th>\n",
                            "      <td>{\"src_id\": \"357953\", \"src_query\": \"Red-rumped ...</td>\n",
                            "    </tr>\n",
                            "    <tr>\n",
                            "      <th>9996</th>\n",
                            "      <td>{\"src_id\": \"6583\", \"src_query\": \"Chinese cuisi...</td>\n",
                            "    </tr>\n",
                            "    <tr>\n",
                            "      <th>9997</th>\n",
                            "      <td>{\"src_id\": \"352100\", \"src_query\": \"Broad-bille...</td>\n",
                            "    </tr>\n",
                            "    <tr>\n",
                            "      <th>9998</th>\n",
                            "      <td>{\"src_id\": \"225615\", \"src_query\": \"Terminator ...</td>\n",
                            "    </tr>\n",
                            "    <tr>\n",
                            "      <th>9999</th>\n",
                            "      <td>{\"src_id\": \"1786\", \"src_query\": \"Arabic numera...</td>\n",
                            "    </tr>\n",
                            "  </tbody>\n",
                            "</table>\n",
                            "<p>10000 rows × 1 columns</p>\n",
                            "</div>"
                        ],
                        "text/plain": [
                            "                                                      0\n",
                            "0     {\"src_id\": \"8221\", \"src_query\": \"Death\", \"tgt_...\n",
                            "1     {\"src_id\": \"5334607\", \"src_query\": \"Africa\", \"...\n",
                            "2     {\"src_id\": \"26769\", \"src_query\": \"South Americ...\n",
                            "3     {\"src_id\": \"21241\", \"src_query\": \"Norway\", \"tg...\n",
                            "4     {\"src_id\": \"26994\", \"src_query\": \"Scotland\", \"...\n",
                            "...                                                 ...\n",
                            "9995  {\"src_id\": \"357953\", \"src_query\": \"Red-rumped ...\n",
                            "9996  {\"src_id\": \"6583\", \"src_query\": \"Chinese cuisi...\n",
                            "9997  {\"src_id\": \"352100\", \"src_query\": \"Broad-bille...\n",
                            "9998  {\"src_id\": \"225615\", \"src_query\": \"Terminator ...\n",
                            "9999  {\"src_id\": \"1786\", \"src_query\": \"Arabic numera...\n",
                            "\n",
                            "[10000 rows x 1 columns]"
                        ]
                    },
                    "execution_count": 1,
                    "metadata": {},
                    "output_type": "execute_result"
                }
            ],
            "source": [
                "import pandas as pd\n",
                "# Let's load and inspect the contents of the uploaded file to see what's inside.\n",
                "file_path = '/workspaces/miami-ds-5-final-project/data/raw/en.es.train.jl'\n",
                "\n",
                "with open(file_path, 'r') as file:\n",
                "    content = file.readlines()\n",
                "\n",
                "# Display the first few lines to understand the file's structure and content\n",
                "content[:]\n",
                "\n",
                "data = pd.DataFrame(content)\n",
                "\n",
                "data"
            ]
        },
        {
            "cell_type": "code",
            "execution_count": 6,
            "metadata": {},
            "outputs": [
                {
                    "name": "stdout",
                    "output_type": "stream",
                    "text": [
                        "File size: 16626510 bytes\n",
                        "Number of lines read: 10000\n",
                        "Number of rows in DataFrame: 1000000\n",
                        "    src_id  src_query result_id  score\n",
                        "0     8221      Death      1942      6\n",
                        "1     8221      Death   1817604      4\n",
                        "2     8221      Death   7609604      4\n",
                        "3     8221      Death   7267253      4\n",
                        "4     8221      Death   1706783      4\n",
                        "..     ...        ...       ...    ...\n",
                        "995  17675  Lithuania   4557524      0\n",
                        "996  17675  Lithuania   4728781      0\n",
                        "997  17675  Lithuania   4780367      0\n",
                        "998  17675  Lithuania   5559984      0\n",
                        "999  17675  Lithuania   4974662      0\n",
                        "\n",
                        "[1000 rows x 4 columns]\n"
                    ]
                }
            ],
            "source": [
                "import pandas as pd\n",
                "import json\n",
                "import os\n",
                "import csv\n",
                "\n",
                "# Load the contents of the file\n",
                "file_path = '/workspaces/miami-ds-5-final-project/data/raw/en.es.train.jl'\n",
                "\n",
                "# Check file size\n",
                "file_size = os.path.getsize(file_path)\n",
                "print(f\"File size: {file_size} bytes\")\n",
                "\n",
                "# Read file content\n",
                "with open(file_path, 'r') as file:\n",
                "    content = file.readlines()\n",
                "\n",
                "# Check number of lines\n",
                "print(f\"Number of lines read: {len(content)}\")\n",
                "\n",
                "# Process each line to extract relevant data\n",
                "data = []\n",
                "for line in content:\n",
                "    entry = json.loads(line)\n",
                "    src_id = entry['src_id']\n",
                "    src_query = entry['src_query']\n",
                "    for result in entry['tgt_results']:\n",
                "        result_id, score = result\n",
                "        data.append([src_id, src_query, result_id, score])\n",
                "\n",
                "# Create a DataFrame\n",
                "df = pd.DataFrame(data, columns=['src_id', 'src_query', 'result_id', 'score'])\n",
                "\n",
                "# Check number of rows in DataFrame\n",
                "print(f\"Number of rows in DataFrame: {len(df)}\")\n",
                "\n",
                "# Display first few rows\n",
                "print(df.head(1000))\n",
                "\n",
                "\n"
            ]
        },
        {
            "cell_type": "code",
            "execution_count": 2,
            "metadata": {},
            "outputs": [
                {
                    "name": "stdout",
                    "output_type": "stream",
                    "text": [
                        "    result_id                                           doc_text\n",
                        "0      842510         [{{fullurl:{{{2}}}|action=edit}} editar]  \n",
                        "1     7503491                                               Ó⇔¿?\n",
                        "2      855896         [{{fullurl:{{{2}}}|action=edit}} editar]  \n",
                        "3     5444240  La palabra mácula (del latín macŭla, «mancha»)...\n",
                        "4     4292429         [{{fullurl:{{{2}}}|action=edit}} editar]  \n",
                        "..        ...                                                ...\n",
                        "95    1467940                                            Imagen3\n",
                        "96    5338428  Puedes colaborar con artículos en el Wikiproye...\n",
                        "97    1437817  Hitlers Zweites Buch (Segundo libro de Hitler)...\n",
                        "98    5619132          Archivo:Dakar2006 Ullevalseter Esteve.jpg\n",
                        "99     494840  Wikipedia:Bienvenido Introducción a Wikipedia ...\n",
                        "\n",
                        "[100 rows x 2 columns]\n"
                    ]
                }
            ],
            "source": [
                "import pandas as pd\n",
                "# Path to the text file\n",
                "text_file_path = '/workspaces/miami-ds-5-final-project/data/raw/es.tsv'\n",
                "\n",
                "# Load the text file into a DataFrame\n",
                "text_df = pd.read_csv(text_file_path, sep='\\t', header=None, names=['result_id', 'doc_text'])\n",
                "\n",
                "# Display the first few rows of the text DataFrame\n",
                "print(text_df.head(100))\n"
            ]
        },
        {
            "cell_type": "code",
            "execution_count": 7,
            "metadata": {},
            "outputs": [
                {
                    "name": "stdout",
                    "output_type": "stream",
                    "text": [
                        "\n",
                        "Filtered DataFrame:\n",
                        "         result_id                                           doc_text\n",
                        "3          5444240  La palabra mácula (del latín macŭla, «mancha»)...\n",
                        "6          6239109  Bailando por un sueño 2014 es la tercera tempo...\n",
                        "8          2593040                                Wikiproyecto África\n",
                        "10         7188837  El área de Arequipa Metropolitana, es un área ...\n",
                        "11         4639639  12012 (イチニーゼロイチニ, ichi-ni-zero-ichi-ni?) es un...\n",
                        "...            ...                                                ...\n",
                        "1578432    8832262  Victoria Lynn Rowell (Portland, Maine, 10 de m...\n",
                        "1578433    8831954  Cara Seymour (Essex, 6 de enero de 1964) es un...\n",
                        "1578434    8832982  Claudia Fernández Valdivia (La Paz, 30 de ener...\n",
                        "1578435     489700  El Achibueno es un río, tributario del Río Lon...\n",
                        "1578436    7823034  Valentín de Verástegui Barona (Vitoria, 1789 -...\n",
                        "\n",
                        "[1578396 rows x 2 columns]\n"
                    ]
                }
            ],
            "source": [
                "import pandas as pd\n",
                "\n",
                "# Filter out rows where 'doc_text' contains the unwanted text, accounting for any hidden characters or spaces\n",
                "df_filtered = text_df[~text_df['doc_text'].str.strip().eq(\"[{{fullurl:{{{2}}}|action=edit}} editar]\")]\n",
                "df_filtered1 = df_filtered[~df_filtered['doc_text'].str.strip().eq(\"Ó⇔¿?\")]\n",
                "\n",
                "# Display the filtered DataFrame\n",
                "print(\"\\nFiltered DataFrame:\")\n",
                "print(df_filtered1)"
            ]
        }
    ],
    "metadata": {
        "kernelspec": {
            "display_name": "Python 3.8.13 64-bit ('3.8.13')",
            "language": "python",
            "name": "python3"
        },
        "language_info": {
            "codemirror_mode": {
                "name": "ipython",
                "version": 3
            },
            "file_extension": ".py",
            "mimetype": "text/x-python",
            "name": "python",
            "nbconvert_exporter": "python",
            "pygments_lexer": "ipython3",
            "version": "3.10.12"
        },
        "orig_nbformat": 4,
        "vscode": {
            "interpreter": {
                "hash": "110cc1dee26208153f2972f08a2ad52b6a56238dc66d48e87fb757ef2996db56"
            }
        }
    },
    "nbformat": 4,
    "nbformat_minor": 2
}
